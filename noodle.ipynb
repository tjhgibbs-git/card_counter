{
 "cells": [
  {
   "cell_type": "code",
   "execution_count": 5,
   "metadata": {},
   "outputs": [],
   "source": [
    "# packages required\n",
    "import random"
   ]
  },
  {
   "cell_type": "code",
   "execution_count": 20,
   "metadata": {},
   "outputs": [],
   "source": [
    "# set-up variables - could move this into inputs\n",
    "deck_count = 2\n",
    "player_count = 5"
   ]
  },
  {
   "cell_type": "code",
   "execution_count": 62,
   "metadata": {},
   "outputs": [],
   "source": [
    "card_stack = []\n",
    "\n",
    "# initialise decks into single stack\n",
    "for deck in range(deck_count):\n",
    "    for suit in ['clubs','spades','hearts','diamonds']:\n",
    "        for card_no in range(13):\n",
    "            # range is 0 indexed, adjust for readability\n",
    "            \n",
    "            card_no = card_no + 1\n",
    "            if card_no == 1:\n",
    "                card = ('A', suit)\n",
    "            elif card_no <= 10:\n",
    "                card = (card_no, suit)\n",
    "            elif card_no == 11:\n",
    "                card = ('J', suit)\n",
    "            elif card_no == 12:\n",
    "                card = ('Q', suit)\n",
    "            elif card_no == 13:\n",
    "                card = ('K', suit)\n",
    "            card_stack.append(card)\n",
    "\n",
    "# randomly reorder the stack of cards \n",
    "random.shuffle(card_stack)\n",
    "    "
   ]
  },
  {
   "cell_type": "code",
   "execution_count": 63,
   "metadata": {},
   "outputs": [
    {
     "data": {
      "text/plain": [
       "{'player_0': [(6, 'clubs'), (9, 'clubs')],\n",
       " 'player_1': [(8, 'diamonds'), ('K', 'diamonds')],\n",
       " 'player_2': [('J', 'spades'), ('Q', 'clubs')],\n",
       " 'player_3': [('K', 'spades'), ('Q', 'spades')],\n",
       " 'player_4': [(6, 'hearts'), ('K', 'hearts')],\n",
       " 'dealer': [((6, 'spades'), 'up'), ((7, 'clubs'), 'down')]}"
      ]
     },
     "execution_count": 63,
     "metadata": {},
     "output_type": "execute_result"
    }
   ],
   "source": [
    "# deal cards\n",
    "\n",
    "# iterate through each player and deal 1 card, remove from card_stack\n",
    "# then give a face up card to dealer\n",
    "# then repeat, but give face down card to dealer\n",
    "\n",
    "# only run if there remains enough cards for all players and dealer\n",
    "if (player_count + 1) * 2 < len(card_stack): \n",
    "    # create empty \"hands\" for each player and dealer\n",
    "    player_hands = {}\n",
    "    for i in range(player_count):\n",
    "        player_hands[f\"player_{i}\"] = []\n",
    "    player_hands[\"dealer\"] = []\n",
    "    \n",
    "    \n",
    "    for round in ['up', 'down']:\n",
    "        for player in player_hands:\n",
    "            if player != 'dealer':  \n",
    "                player_hands[player].append(card_stack[0])\n",
    "                card_stack.pop(0)\n",
    "            else:\n",
    "                player_hands['dealer'].append((card_stack[0], round))\n",
    "                card_stack.pop(0)\n",
    "\n",
    "player_hands\n"
   ]
  },
  {
   "cell_type": "code",
   "execution_count": 66,
   "metadata": {},
   "outputs": [],
   "source": [
    "def sum_player_hand(cards):\n",
    "    total = 0\n",
    "    for card in cards:\n",
    "        value = card[0]\n",
    "        if value in ['J', 'Q', 'K']:\n",
    "            value = 10\n",
    "        elif value == 'A':\n",
    "            value = 11\n",
    "        else:\n",
    "            value = int(value)\n",
    "        total += value\n",
    "    return total\n",
    "            \n",
    "\n",
    "def basic_strategy(player_cards, dealer_cards):\n",
    "    dealer_up_card = dealer_cards[0][0]\n",
    "    dealer_down_card = dealer_cards[1][0]\n",
    "    player_total = sum_player_hand(player_cards)\n",
    "    \n",
    "    # worry about splits later\n",
    "    outcome_list = ['stand', 'hit', 'double']\n",
    "    random.shuffle(outcome_list)\n",
    "    return outcome_list[0]\n",
    "    \n",
    "    \n",
    "    "
   ]
  }
 ],
 "metadata": {
  "kernelspec": {
   "display_name": ".venv",
   "language": "python",
   "name": "python3"
  },
  "language_info": {
   "codemirror_mode": {
    "name": "ipython",
    "version": 3
   },
   "file_extension": ".py",
   "mimetype": "text/x-python",
   "name": "python",
   "nbconvert_exporter": "python",
   "pygments_lexer": "ipython3",
   "version": "3.11.7"
  }
 },
 "nbformat": 4,
 "nbformat_minor": 2
}
